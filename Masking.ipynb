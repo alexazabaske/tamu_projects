{
 "cells": [
  {
   "cell_type": "code",
   "execution_count": 3,
   "metadata": {},
   "outputs": [],
   "source": [
    "## I always import these\n",
    "import numpy as np\n",
    "import xarray as xr\n",
    "import matplotlib.pyplot as plt\n",
    "import pandas as pd\n",
    "\n",
    "## relevant for this notebook\n",
    "import cartopy.crs as ccrs\n",
    "\n",
    "## python functions written by me that I frequently use\n",
    "import alexas_functions\n",
    "# alexas_functions.list_my_functions()\n",
    "\n",
    "## relevant for this notebook\n",
    "## link: https://pypi.org/project/global-land-mask/\n",
    "from global_land_mask import globe"
   ]
  },
  {
   "cell_type": "code",
   "execution_count": 4,
   "metadata": {},
   "outputs": [
    {
     "name": "stdout",
     "output_type": "stream",
     "text": [
      "observation dataset:\n",
      " C:\\Users\\alexa\\Documents\\RESEARCH\\DATA\\had_ensm\\Version_4.6\\temperature_anomaly\\HadCRUT.4.6.0.0.anomalies.1.nc\n",
      "model dataset:\n",
      " C:\\Users\\alexa\\Documents\\RESEARCH\\DATA\\mpi_ensm\\tas\\tas_Amon_MPI-ESM_historical_r001i1850p3_185001-200512.nc\n",
      "model dataset:\n",
      " C:\\Users\\alexa\\Documents\\RESEARCH\\DATA\\mpi_ensm\\tas\\tas_Amon_MPI-ESM_rcp85_r001i2005p3_200601-209912.nc\n",
      "model datasets merged\n"
     ]
    }
   ],
   "source": [
    "#### OPEN DATA\n",
    "## open a had file (single ensemble member)\n",
    "had_sat_sst_name = alexas_functions.get_filename('had_ensm', 'tas', omtype='obs')\n",
    "print('observation dataset:\\n', had_sat_sst_name)\n",
    "had_sat_sst = xr.open_dataset(had_sat_sst_name)\n",
    "had_sat_sst.close()\n",
    "had_sat_sst = alexas_functions.uniform_coords(had_sat_sst, ['latitude','longitude'])\n",
    "\n",
    "mpi_tas_hist_name= alexas_functions.get_filename('mpi_ensm', 'tas')\n",
    "mpi_tas_hist = xr.open_dataset(mpi_tas_hist_name)\n",
    "mpi_tas_hist.close()\n",
    "print('model dataset:\\n', mpi_tas_hist_name)\n",
    "\n",
    "mpi_tas_rcp85_name= alexas_functions.get_filename('mpi_ensm', 'tas', exp='rcp85')\n",
    "mpi_tas_rcp85 = xr.open_dataset(mpi_tas_rcp85_name)\n",
    "mpi_tas_rcp85.close()\n",
    "print('model dataset:\\n', mpi_tas_rcp85_name)\n",
    "\n",
    "mpi_tas = xr.merge([mpi_tas_hist, mpi_tas_rcp85])\n",
    "mpi_tas = alexas_functions.uniform_coords(mpi_tas)\n",
    "print('model datasets merged')"
   ]
  },
  {
   "cell_type": "code",
   "execution_count": 10,
   "metadata": {},
   "outputs": [
    {
     "name": "stdout",
     "output_type": "stream",
     "text": [
      "Making a data array representing the % ocean area in each latlon grid box for the globe\n",
      "grid shape (lat, lon): (96, 192)\n",
      "\n",
      "current latitude:\n",
      "-88.57217,  -86.72253,  -84.86197,  -82.99894,  -81.13498,  -79.27056,  -77.40589,  -75.54106,  -73.67613,  -71.81113,  -69.94608,  -68.08099,  -66.21587,  -64.35073,  -62.48557,  -60.6204,  -58.75521,  -56.89001,  -55.02481,  -53.1596,  -51.29438,  -49.42915,  -47.56393,  -45.69869,  -43.83346,  -41.96822,  -40.10298,  -38.23774,  -36.37249,  -34.50724,  -32.64199,  -30.77674,  -28.91149,  -27.04624,  -25.18099,  -23.31573,  -21.45048,  -19.58522,  -17.71996,  -15.8547,  -13.98945,  -12.12419,  -10.25893,  -8.39367,  -6.52841,  -4.66315,  -2.79789,  -0.93263,  0.93263,  2.79789,  4.66315,  6.52841,  8.39367,  10.25893,  12.12419,  13.98945,  15.8547,  17.71996,  19.58522,  21.45048,  23.31573,  25.18099,  27.04624,  28.91149,  30.77674,  32.64199,  34.50724,  36.37249,  38.23774,  40.10298,  41.96822,  43.83346,  45.69869,  47.56393,  49.42915,  51.29438,  53.1596,  55.02481,  56.89001,  58.75521,  60.6204,  62.48557,  64.35073,  66.21587,  68.08099,  69.94608,  71.81113,  73.67613,  75.54106,  77.40589,  79.27056,  81.13498,  82.99894,  84.86197,  86.72253,  88.57217,  ... done.\n"
     ]
    }
   ],
   "source": [
    "def calculate_percent_ocean_gridded(da, subdiv=10):\n",
    "    \"\"\" PURPOSE: \n",
    "        da\n",
    "        subdiv=10: \"\"\"\n",
    "    \n",
    "    ##da is xarray dataset\n",
    "    lat = da[lat_var].values\n",
    "    lon = da[lon_var].values\n",
    "        \n",
    "    #print(lon)\n",
    "    irange = range(0,lat.size)\n",
    "    jrange = range(0,lon.size)\n",
    "\n",
    "    ## initializing the mask for percentage ocean at each gridd point\n",
    "    percents = np.zeros((lat.size, lon.size))\n",
    "    \n",
    "    ## latitude loop\n",
    "    print('Making a data array of the % ocean area in each latlon grid box for the globe')\n",
    "    print('with grid shape (lat, lon):', percents.shape)\n",
    "    print('')\n",
    "    print('current latitude:')\n",
    "    ##### ----- LAT LOOP \n",
    "    for i in irange:\n",
    "        currlat1 = lat[i] \n",
    "        print(round(currlat1,5), end=',  ')\n",
    "\n",
    "        ## if not the last latitude\n",
    "        if currlat1==lat[lat.size-1]:\n",
    "            lat_incr = (-lat[i] + lat[i-1])\n",
    "        else:\n",
    "            lat_incr = (lat[i] - lat[i+1])\n",
    "            \n",
    "        lat_incr12 = abs(lat_incr/2)\n",
    "        currlatspan = (lat[i]) - lat_incr12, (lat[i]) + lat_incr12\n",
    "\n",
    "        ##### ----- LON LOOP \n",
    "        for j in jrange:\n",
    "\n",
    "            currlon1 = lon[j]\n",
    "            if currlon1==lon[lon.size-1]:\n",
    "                lon_incr = (-lon[j] + lon[j-1])          \n",
    "            else: \n",
    "                lon_incr = (lon[j] - lon[j+1])\n",
    "                \n",
    "            lon_incr12 = abs(lon_incr/2)\n",
    "            currlonspan = (lon[j]) - lon_incr12, (lon[j]) + lon_incr12 \n",
    "\n",
    "\n",
    "            percentocean = 0\n",
    "            sub_lat = np.linspace(currlatspan[0], currlatspan[1], subdiv+1)[0:subdiv] \n",
    "            sub_lon = np.linspace(currlonspan[0], currlonspan[1], subdiv+1)[0:subdiv]\n",
    "\n",
    "            ind_n = np.where(sub_lon<-180)[0]\n",
    "            sub_lon[ind_n] = sub_lon[ind_n] + 360\n",
    "\n",
    "            ind_p = np.where(sub_lon>180)[0]\n",
    "            sub_lon[ind_p] = sub_lon[ind_p] - 360\n",
    "   \n",
    "            for ii in range(0, sub_lat.size):\n",
    "                for jj in range(0, sub_lon.size):\n",
    "\n",
    "                    if globe.is_ocean( sub_lat[ii], sub_lon[jj] ):\n",
    "                         percentocean+=1\n",
    "                    else:\n",
    "                         continue \n",
    "\n",
    "            ## should be inside lat loop, inside lon loop                \n",
    "            percents[i, j] = percentocean\n",
    "\n",
    "    print('... done.')\n",
    "    return percents\n",
    "\n",
    "                \n",
    "p1 = calculate_percent_ocean_gridded(mpi_tas)"
   ]
  },
  {
   "cell_type": "code",
   "execution_count": 11,
   "metadata": {},
   "outputs": [
    {
     "name": "stdout",
     "output_type": "stream",
     "text": [
      "Making a data array representing the % ocean area in each latlon grid box for the globe\n",
      "grid shape (lat, lon): (36, 72)\n",
      "\n",
      "current latitude:\n",
      "-87.5,  -82.5,  -77.5,  -72.5,  -67.5,  -62.5,  -57.5,  -52.5,  -47.5,  -42.5,  -37.5,  -32.5,  -27.5,  -22.5,  -17.5,  -12.5,  -7.5,  -2.5,  2.5,  7.5,  12.5,  17.5,  22.5,  27.5,  32.5,  37.5,  42.5,  47.5,  52.5,  57.5,  62.5,  67.5,  72.5,  77.5,  82.5,  87.5,  ... done.\n"
     ]
    }
   ],
   "source": [
    "p2 = calculate_percent_ocean_gridded(had_sat_sst)"
   ]
  },
  {
   "cell_type": "code",
   "execution_count": null,
   "metadata": {},
   "outputs": [],
   "source": []
  },
  {
   "cell_type": "code",
   "execution_count": null,
   "metadata": {},
   "outputs": [],
   "source": []
  },
  {
   "cell_type": "code",
   "execution_count": 184,
   "metadata": {},
   "outputs": [],
   "source": [
    "# (177.1875, 177.375,  177.5625, 177.75,   177.9375, 178.125,  178.3125, 178.5, 178.6875, 178.875)   \n",
    "# f2 = np.gradient(np.asarray([-179.0625, -178.875,  -178.6875, -178.5, -178.3125 -178.125  -177.9375\n",
    "#  -177.75,   -177.5625, -177.375]))\n",
    "# for k in f2:\n",
    "#     print(round(k,3))\n",
    "# print(' \\n')\n",
    "# # for k in f1:\n",
    "# #     print(round(k,3))"
   ]
  },
  {
   "cell_type": "code",
   "execution_count": 13,
   "metadata": {},
   "outputs": [
    {
     "data": {
      "text/plain": [
       "array([  0.,   1.,   2.,   3.,   4.,   5.,   6.,   7.,   8.,   9.,  10.,\n",
       "        11.,  12.,  13.,  14.,  15.,  16.,  17.,  18.,  19.,  20.,  21.,\n",
       "        22.,  23.,  24.,  25.,  26.,  27.,  28.,  29.,  30.,  31.,  32.,\n",
       "        33.,  34.,  35.,  36.,  37.,  38.,  39.,  40.,  41.,  43.,  44.,\n",
       "        45.,  46.,  47.,  48.,  49.,  50.,  51.,  52.,  53.,  54.,  55.,\n",
       "        56.,  57.,  58.,  59.,  60.,  61.,  62.,  63.,  64.,  65.,  66.,\n",
       "        67.,  68.,  69.,  70.,  71.,  72.,  73.,  74.,  75.,  76.,  77.,\n",
       "        78.,  79.,  80.,  81.,  82.,  83.,  84.,  85.,  86.,  87.,  88.,\n",
       "        89.,  90.,  91.,  92.,  93.,  94.,  95.,  96.,  97.,  98.,  99.,\n",
       "       100.])"
      ]
     },
     "execution_count": 13,
     "metadata": {},
     "output_type": "execute_result"
    }
   ],
   "source": [
    "np.unique(p2)"
   ]
  },
  {
   "cell_type": "code",
   "execution_count": 14,
   "metadata": {},
   "outputs": [
    {
     "data": {
      "text/plain": [
       "<matplotlib.colorbar.Colorbar at 0x1c737dec2e0>"
      ]
     },
     "execution_count": 14,
     "metadata": {},
     "output_type": "execute_result"
    },
    {
     "data": {
      "image/png": "[encoded data removed]",
      "text/plain": [
       "<Figure size 432x288 with 2 Axes>"
      ]
     },
     "metadata": {
      "needs_background": "light"
     },
     "output_type": "display_data"
    }
   ],
   "source": [
    "plt.pcolormesh(p2)\n",
    "plt.colorbar()"
   ]
  },
  {
   "cell_type": "code",
   "execution_count": 100,
   "metadata": {},
   "outputs": [
    {
     "data": {
      "text/plain": [
       "array([  0.,   1.,   2.,   3.,   4.,   5.,   6.,   7.,   8.,   9.,  10.,\n",
       "        11.,  12.,  13.,  14.,  15.,  16.,  17.,  18.,  19.,  20.,  21.,\n",
       "        22.,  23.,  24.,  25.,  26.,  27.,  28.,  29.,  30.,  31.,  32.,\n",
       "        33.,  34.,  35.,  36.,  37.,  38.,  39.,  40.,  41.,  42.,  43.,\n",
       "        44.,  45.,  46.,  47.,  48.,  49.,  50.,  51.,  52.,  53.,  54.,\n",
       "        55.,  56.,  57.,  58.,  59.,  60.,  61.,  62.,  63.,  64.,  65.,\n",
       "        66.,  67.,  68.,  69.,  70.,  71.,  72.,  73.,  74.,  75.,  76.,\n",
       "        77.,  78.,  79.,  80.,  81.,  82.,  83.,  84.,  85.,  86.,  87.,\n",
       "        88.,  89.,  90.,  91.,  92.,  93.,  94.,  95.,  96.,  97.,  98.,\n",
       "        99., 100.])"
      ]
     },
     "execution_count": 100,
     "metadata": {},
     "output_type": "execute_result"
    }
   ],
   "source": [
    "np.unique(p1)"
   ]
  },
  {
   "cell_type": "code",
   "execution_count": null,
   "metadata": {},
   "outputs": [],
   "source": []
  },
  {
   "cell_type": "code",
   "execution_count": null,
   "metadata": {},
   "outputs": [],
   "source": []
  },
  {
   "cell_type": "code",
   "execution_count": null,
   "metadata": {},
   "outputs": [],
   "source": []
  },
  {
   "cell_type": "code",
   "execution_count": null,
   "metadata": {},
   "outputs": [],
   "source": [
    "#### MAKE MASK\n",
    "## initialize an array with sizes (time, lat lon) relative to the model\n",
    "\n",
    "available_obs_mask=np.ones(mpi_tas['tas'].shape)\n",
    "for ym in range(mpi_tas['time'].size):\n",
    "     available_obs_mask[ym, :, :] = mask_for_available_obs(mpi_tas['tas'], had_sat_sst['temperature_anomaly'], ym)\n",
    "    \n",
    "    \n",
    "## loop through each month for the entire time frame\n",
    "## send model and had data array (such as for tas) to function \n",
    "## function will search for nans in had, then mask out the same spots in model array\n",
    "## the result should be a binary mask. essentially 1 or nan. or a 1 or 0. 1 meaning keep, nan(0) meaning delete.\n",
    "\n",
    "## now this binary mask (all, sea, or land) can be applied to any ensemble member of that model\n",
    "## the mask is time dependant \n",
    "\n",
    "#mpi_tas"
   ]
  },
  {
   "cell_type": "code",
   "execution_count": null,
   "metadata": {},
   "outputs": [],
   "source": []
  },
  {
   "cell_type": "code",
   "execution_count": null,
   "metadata": {},
   "outputs": [],
   "source": []
  },
  {
   "cell_type": "code",
   "execution_count": null,
   "metadata": {},
   "outputs": [],
   "source": []
  },
  {
   "cell_type": "code",
   "execution_count": null,
   "metadata": {},
   "outputs": [],
   "source": []
  }
 ],
 "metadata": {
  "kernelspec": {
   "display_name": "Python 3",
   "language": "python",
   "name": "python3"
  },
  "language_info": {
   "codemirror_mode": {
    "name": "ipython",
    "version": 3
   },
   "file_extension": ".py",
   "mimetype": "text/x-python",
   "name": "python",
   "nbconvert_exporter": "python",
   "pygments_lexer": "ipython3",
   "version": "3.8.5"
  }
 },
 "nbformat": 4,
 "nbformat_minor": 4
}
